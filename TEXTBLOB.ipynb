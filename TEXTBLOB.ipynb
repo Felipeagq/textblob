{
 "cells": [
  {
   "cell_type": "code",
   "execution_count": 13,
   "metadata": {},
   "outputs": [],
   "source": [
    "from textblob import TextBlob as tb\n",
    "import sys"
   ]
  },
  {
   "cell_type": "markdown",
   "metadata": {},
   "source": [
    "# Traducción de texto con 'textblob'\n",
    "### Se necesita conexión a internet"
   ]
  },
  {
   "cell_type": "code",
   "execution_count": 16,
   "metadata": {},
   "outputs": [
    {
     "name": "stdout",
     "output_type": "stream",
     "text": [
      "Recuerda, Amreica: la organización te hará libre.\n",
      "----------------------------------------\n",
      "Hola espero que estés bien\n",
      "----------------------------------------\n"
     ]
    }
   ],
   "source": [
    "from textblob import TextBlob as tb\n",
    "#\n",
    "\n",
    "# Creamos un texto en ingles\n",
    "ingles = tb('Remember, Amreica : organization will set you free.')\n",
    "\n",
    "# la libreria dedecta el idioma en el que esta escrito\n",
    "print(ingles.translate(to='es'))\n",
    "\n",
    "print(''.center(40,'-'))\n",
    "\n",
    "ingles2 = tb('Hi, i hope you are doing ok')\n",
    "print(ingles2.translate(to='es'))\n",
    "\n",
    "print(''.center(40,'-'))\n"
   ]
  },
  {
   "cell_type": "markdown",
   "metadata": {},
   "source": [
    "# Detección de sentimientos con textblob\n",
    "\n",
    "#### potencial para clasificación de RIESGO VITAL, Se entrena con el archivo .json"
   ]
  },
  {
   "cell_type": "code",
   "execution_count": 17,
   "metadata": {},
   "outputs": [
    {
     "name": "stdout",
     "output_type": "stream",
     "text": [
      "[\n",
      "    {\"text\": \"Amo este sandwich.\", \"label\": \"pos\"},\n",
      "    {\"text\": \"Es un lugar adorable!\", \"label\": \"pos\"},\n",
      "    {\"text\": \"No me gusta este restaurant\",\"label\":\"neg\"},\n",
      "    {\"text\": \"No vuelvo a regresar a este lugar :(\",\"label\":\"neg\"},\n",
      "    {\"text\": \"Me encantÃ³ <3 la comida\",\"label\":\"pos\"},\n",
      "    {\"text\": \"Todo muy mal :(\",\"label\":\"neg\"}\n",
      "    \n",
      "\n",
      "]\n",
      "\n",
      "----------------------------------------\n",
      "1. neg\n",
      "2. pos\n",
      "3. pos\n",
      "4. pos\n",
      "5. neg\n"
     ]
    }
   ],
   "source": [
    "# importamos la libreria \n",
    "from textblob.classifiers import NaiveBayesClassifier\n",
    "import json\n",
    "\n",
    "# debo tener varios ejemplos que muestre diferentes sentimientos\n",
    "# para que sea más robusto y se alimente mejor\n",
    "fp = open('datossp.json')\n",
    "print(fp.read())\n",
    "\n",
    "print(''.center(40,'-'))\n",
    "\n",
    "fp = open('datossp.json')\n",
    "cl = NaiveBayesClassifier(fp, format=\"json\")\n",
    "print('1.',cl.classify(\"mal pizza:(\")) # detecta la palabra 'mal'\n",
    "print('2.',cl.classify(\"no  pizza:(\")) # no detecta la palabra 'no' sola, saca por defecto 'pos'\n",
    "print('3.',cl.classify(\"pizza:(\")) # cuando no entiende algo, saca por defecto 'pos'\n",
    "print('4.',cl.classify(\"malo pizza:(\")) # tampoco reconoce la palabra 'malo'\n",
    "print('5.',cl.classify(\"no vuelvo a comer pizza:(\"))\n",
    "\n",
    "\n",
    "# lo que no reconoce, pasa por defecto el primer label, creo"
   ]
  },
  {
   "cell_type": "markdown",
   "metadata": {},
   "source": [
    "# Analisis de sentimientos con Textblob\n",
    "### para poder evaluarlo, se necesita traducir al ingles"
   ]
  },
  {
   "cell_type": "code",
   "execution_count": 18,
   "metadata": {},
   "outputs": [
    {
     "name": "stdout",
     "output_type": "stream",
     "text": [
      "The Sony Xperia phone has an excellent resolution screen, it is also very fast\n",
      "Sentiment(polarity=0.63, subjectivity=0.89) \n",
      "\n",
      "The Sony Xperia phone has a screen with good resolution, it is also fast\n",
      "Sentiment(polarity=0.44999999999999996, subjectivity=0.6000000000000001) \n",
      "\n",
      "This program, according to the standard, does all the necessary calculations\n",
      "Sentiment(polarity=0.0, subjectivity=0.5) \n",
      "\n",
      "this program, according to the standard, does all the calculations well\n",
      "Sentiment(polarity=0.0, subjectivity=0.0) \n",
      "\n",
      "Dislike\n",
      "Sentiment(polarity=0.0, subjectivity=0.0) \n",
      "\n",
      "I do not like pizza\n",
      "Sentiment(polarity=0.0, subjectivity=0.0) \n",
      "\n",
      "I don't like pizza, I think it's very ugly\n",
      "Sentiment(polarity=-0.9099999999999999, subjectivity=1.0) \n",
      "\n",
      "I think it's very ugly\n",
      "Sentiment(polarity=-0.9099999999999999, subjectivity=1.0) \n",
      "\n",
      "very ugly\n",
      "Sentiment(polarity=-0.9099999999999999, subjectivity=1.0) \n",
      "\n",
      "ugly\n",
      "Sentiment(polarity=-0.7, subjectivity=1.0) \n",
      "\n"
     ]
    }
   ],
   "source": [
    "from textblob import TextBlob as tb\n",
    "\n",
    "try:\n",
    "    # POSITIVA Y SUBJETIVA\n",
    "    # ========================================\n",
    "    t = tb(\"El telofono Xperia de Sony, tiene una pantalla de excelente resolución, ademas es muy rapido\")\n",
    "    # para poder evaluarlo, se necesita traducir al ingles\n",
    "    t_in = t.translate(to='en')\n",
    "    print(t_in)\n",
    "    # analizamos los sentimientos \n",
    "    print(t_in.sentiment,'\\n') # teniendo a t_in como TextBlob\n",
    "\n",
    "    # Ahora quitaremos algunos calificativos \n",
    "    t = tb(\"El telofono Xperia de Sony, tiene una pantalla con buena resolución, ademas es rapido\")\n",
    "    # para poder evaluarlo, se necesita traducir al ingles\n",
    "    t_in = t.translate(to='en')\n",
    "    print(t_in)\n",
    "    # analizamos los sentimientos \n",
    "    print(t_in.sentiment,'\\n') # teniendo a t_in como TextBlob\n",
    "\n",
    "    # OBJETIVO\n",
    "    # ========================================\n",
    "    t = tb('este programa, de acuerdo al estandar hace todos los calculos necesarios')\n",
    "    t_in = t.translate(to='en')\n",
    "    print(t_in)\n",
    "    print(t_in.sentiment,'\\n') # tiene subjetividad 0.5\n",
    "\n",
    "    t = tb('este programa, de acuerdo al estandar hace todos los calculos bien')\n",
    "    t_in = t.translate(to='en')\n",
    "    print(t_in)\n",
    "    print(t_in.sentiment,'\\n') # tiene subjetividad 0\n",
    "\n",
    "    # NEGATIVO\n",
    "    # ========================================\n",
    "    t = tb('No me gusta')\n",
    "    t_in = t.translate(to='en')\n",
    "    print(t_in)\n",
    "    print(t_in.sentiment,'\\n') # a pesar de ser negativa y totalmente subjetiva, arroja 0.0 y 0.0\n",
    "\n",
    "    t = tb('No me gusta la pizza')\n",
    "    t_in = t.translate(to='en')\n",
    "    print(t_in)\n",
    "    print(t_in.sentiment,'\\n')  # a pesar de ser negativa y totalmente subjetiva, arroja 0.0 y 0.0\n",
    "\n",
    "    t = tb('No me gusta la pizza, creo que es muy fea')\n",
    "    t_in = t.translate(to='en')\n",
    "    print(t_in)\n",
    "    print(t_in.sentiment,'\\n')\n",
    "\n",
    "    t = tb('Creo que es muy fea')\n",
    "    t_in = t.translate(to='en')\n",
    "    print(t_in)\n",
    "    print(t_in.sentiment,'\\n')\n",
    "\n",
    "    t = tb(' muy fea')\n",
    "    t_in = t.translate(to='en')\n",
    "    print(t_in)\n",
    "    print(t_in.sentiment,'\\n')\n",
    "\n",
    "    t = tb('fea')\n",
    "    t_in = t.translate(to='en')\n",
    "    print(t_in)\n",
    "    print(t_in.sentiment,'\\n')\n",
    "except:\n",
    "    print(sys.exc_info()[0])"
   ]
  },
  {
   "cell_type": "markdown",
   "metadata": {},
   "source": [
    "# Analisis de sentimientos de un DataFrame"
   ]
  },
  {
   "cell_type": "code",
   "execution_count": 19,
   "metadata": {},
   "outputs": [
    {
     "data": {
      "text/html": [
       "<div>\n",
       "<style scoped>\n",
       "    .dataframe tbody tr th:only-of-type {\n",
       "        vertical-align: middle;\n",
       "    }\n",
       "\n",
       "    .dataframe tbody tr th {\n",
       "        vertical-align: top;\n",
       "    }\n",
       "\n",
       "    .dataframe thead th {\n",
       "        text-align: right;\n",
       "    }\n",
       "</style>\n",
       "<table border=\"1\" class=\"dataframe\">\n",
       "  <thead>\n",
       "    <tr style=\"text-align: right;\">\n",
       "      <th></th>\n",
       "      <th>content</th>\n",
       "      <th>Polarity</th>\n",
       "      <th>Subjetivity</th>\n",
       "    </tr>\n",
       "  </thead>\n",
       "  <tbody>\n",
       "    <tr>\n",
       "      <th>0</th>\n",
       "      <td>If the choice is between mining for bitcoin - ...</td>\n",
       "      <td>-0.150000</td>\n",
       "      <td>0.250000</td>\n",
       "    </tr>\n",
       "    <tr>\n",
       "      <th>1</th>\n",
       "      <td>&lt;br/&gt;To me, Bitcoin (et al) appears to be an e...</td>\n",
       "      <td>-0.107143</td>\n",
       "      <td>0.471429</td>\n",
       "    </tr>\n",
       "    <tr>\n",
       "      <th>2</th>\n",
       "      <td>Bitcoin is a pyramid scheme backed by nothing ...</td>\n",
       "      <td>0.008566</td>\n",
       "      <td>0.415734</td>\n",
       "    </tr>\n",
       "    <tr>\n",
       "      <th>3</th>\n",
       "      <td>What does it cost in energy to dig up and refi...</td>\n",
       "      <td>0.146892</td>\n",
       "      <td>0.598589</td>\n",
       "    </tr>\n",
       "    <tr>\n",
       "      <th>4</th>\n",
       "      <td>You forgot to mention stock buybacks.</td>\n",
       "      <td>0.000000</td>\n",
       "      <td>0.000000</td>\n",
       "    </tr>\n",
       "    <tr>\n",
       "      <th>...</th>\n",
       "      <td>...</td>\n",
       "      <td>...</td>\n",
       "      <td>...</td>\n",
       "    </tr>\n",
       "    <tr>\n",
       "      <th>234</th>\n",
       "      <td>This is no different than his pre-November 201...</td>\n",
       "      <td>0.000000</td>\n",
       "      <td>0.550000</td>\n",
       "    </tr>\n",
       "    <tr>\n",
       "      <th>235</th>\n",
       "      <td>Frankly, I am slightly confused, not about the...</td>\n",
       "      <td>0.161111</td>\n",
       "      <td>0.408333</td>\n",
       "    </tr>\n",
       "    <tr>\n",
       "      <th>236</th>\n",
       "      <td>more proof that the Twitiot sees everything in...</td>\n",
       "      <td>0.488889</td>\n",
       "      <td>0.500000</td>\n",
       "    </tr>\n",
       "    <tr>\n",
       "      <th>237</th>\n",
       "      <td>While the NYT focuses on the tweets from Ameri...</td>\n",
       "      <td>0.316667</td>\n",
       "      <td>0.416667</td>\n",
       "    </tr>\n",
       "    <tr>\n",
       "      <th>238</th>\n",
       "      <td>As Winston Churchill might have said of the Tr...</td>\n",
       "      <td>0.000000</td>\n",
       "      <td>0.066667</td>\n",
       "    </tr>\n",
       "  </tbody>\n",
       "</table>\n",
       "<p>239 rows × 3 columns</p>\n",
       "</div>"
      ],
      "text/plain": [
       "                                               content  Polarity  Subjetivity\n",
       "0    If the choice is between mining for bitcoin - ... -0.150000     0.250000\n",
       "1    <br/>To me, Bitcoin (et al) appears to be an e... -0.107143     0.471429\n",
       "2    Bitcoin is a pyramid scheme backed by nothing ...  0.008566     0.415734\n",
       "3    What does it cost in energy to dig up and refi...  0.146892     0.598589\n",
       "4               You forgot to mention stock buybacks.   0.000000     0.000000\n",
       "..                                                 ...       ...          ...\n",
       "234  This is no different than his pre-November 201...  0.000000     0.550000\n",
       "235  Frankly, I am slightly confused, not about the...  0.161111     0.408333\n",
       "236  more proof that the Twitiot sees everything in...  0.488889     0.500000\n",
       "237  While the NYT focuses on the tweets from Ameri...  0.316667     0.416667\n",
       "238  As Winston Churchill might have said of the Tr...  0.000000     0.066667\n",
       "\n",
       "[239 rows x 3 columns]"
      ]
     },
     "execution_count": 19,
     "metadata": {},
     "output_type": "execute_result"
    }
   ],
   "source": [
    "import pandas as pd\n",
    "from textblob import TextBlob as tb\n",
    "import seaborn as sns\n",
    "import matplotlib.pyplot as plt\n",
    "\n",
    "df = pd.read_csv('nyt.csv') # importamos el datasets\n",
    "# df['text_esp'] = df['content'].apply(lambda x: tb(x).translate(to='es'))\n",
    "df['Polarity'] = df['content'].apply(lambda x : tb(x).sentiment[0])\n",
    "df['Subjetivity'] = df['content'].apply(lambda x : tb(x).sentiment[1])\n",
    "df"
   ]
  },
  {
   "cell_type": "code",
   "execution_count": 20,
   "metadata": {},
   "outputs": [
    {
     "data": {
      "image/png": "[encoded data removed]",
      "text/plain": [
       "<Figure size 432x288 with 2 Axes>"
      ]
     },
     "metadata": {
      "needs_background": "light"
     },
     "output_type": "display_data"
    }
   ],
   "source": [
    "df.hist();"
   ]
  },
  {
   "cell_type": "code",
   "execution_count": 21,
   "metadata": {},
   "outputs": [
    {
     "data": {
      "text/html": [
       "<div>\n",
       "<style scoped>\n",
       "    .dataframe tbody tr th:only-of-type {\n",
       "        vertical-align: middle;\n",
       "    }\n",
       "\n",
       "    .dataframe tbody tr th {\n",
       "        vertical-align: top;\n",
       "    }\n",
       "\n",
       "    .dataframe thead th {\n",
       "        text-align: right;\n",
       "    }\n",
       "</style>\n",
       "<table border=\"1\" class=\"dataframe\">\n",
       "  <thead>\n",
       "    <tr style=\"text-align: right;\">\n",
       "      <th></th>\n",
       "      <th>Polarity</th>\n",
       "      <th>Subjetivity</th>\n",
       "    </tr>\n",
       "  </thead>\n",
       "  <tbody>\n",
       "    <tr>\n",
       "      <th>count</th>\n",
       "      <td>239.000000</td>\n",
       "      <td>239.000000</td>\n",
       "    </tr>\n",
       "    <tr>\n",
       "      <th>mean</th>\n",
       "      <td>0.059614</td>\n",
       "      <td>0.449711</td>\n",
       "    </tr>\n",
       "    <tr>\n",
       "      <th>std</th>\n",
       "      <td>0.219413</td>\n",
       "      <td>0.238127</td>\n",
       "    </tr>\n",
       "    <tr>\n",
       "      <th>min</th>\n",
       "      <td>-1.000000</td>\n",
       "      <td>0.000000</td>\n",
       "    </tr>\n",
       "    <tr>\n",
       "      <th>25%</th>\n",
       "      <td>-0.012500</td>\n",
       "      <td>0.321240</td>\n",
       "    </tr>\n",
       "    <tr>\n",
       "      <th>50%</th>\n",
       "      <td>0.035714</td>\n",
       "      <td>0.466667</td>\n",
       "    </tr>\n",
       "    <tr>\n",
       "      <th>75%</th>\n",
       "      <td>0.161556</td>\n",
       "      <td>0.577110</td>\n",
       "    </tr>\n",
       "    <tr>\n",
       "      <th>max</th>\n",
       "      <td>1.000000</td>\n",
       "      <td>1.000000</td>\n",
       "    </tr>\n",
       "  </tbody>\n",
       "</table>\n",
       "</div>"
      ],
      "text/plain": [
       "         Polarity  Subjetivity\n",
       "count  239.000000   239.000000\n",
       "mean     0.059614     0.449711\n",
       "std      0.219413     0.238127\n",
       "min     -1.000000     0.000000\n",
       "25%     -0.012500     0.321240\n",
       "50%      0.035714     0.466667\n",
       "75%      0.161556     0.577110\n",
       "max      1.000000     1.000000"
      ]
     },
     "execution_count": 21,
     "metadata": {},
     "output_type": "execute_result"
    }
   ],
   "source": [
    "df.describe()"
   ]
  },
  {
   "cell_type": "code",
   "execution_count": 22,
   "metadata": {},
   "outputs": [
    {
     "data": {
      "image/png": "[encoded data removed]",
      "text/plain": [
       "<Figure size 360x360 with 1 Axes>"
      ]
     },
     "metadata": {
      "needs_background": "light"
     },
     "output_type": "display_data"
    },
    {
     "data": {
      "image/png": "[encoded data removed]",
      "text/plain": [
       "<Figure size 360x360 with 1 Axes>"
      ]
     },
     "metadata": {
      "needs_background": "light"
     },
     "output_type": "display_data"
    }
   ],
   "source": [
    "sns.displot(df['Polarity'], kde=True)\n",
    "sns.displot(df['Subjetivity'], kde=True);"
   ]
  },
  {
   "cell_type": "code",
   "execution_count": 24,
   "metadata": {},
   "outputs": [],
   "source": [
    "text_sample = '''Este es un texto de prueba, quiero ver como funciona el tokenizer de nltk. \n",
    " que hago para eso? simplemente copio este mensaje de prueba y ¡BOOM!. veamos como funciona'''\n",
    "\n",
    "text = tb(text_sample)"
   ]
  },
  {
   "cell_type": "code",
   "execution_count": 26,
   "metadata": {},
   "outputs": [
    {
     "data": {
      "text/plain": [
       "WordList(['Este', 'es', 'un', 'texto', 'de', 'prueba', 'quiero', 'ver', 'como', 'funciona', 'el', 'tokenizer', 'de', 'nltk', 'que', 'hago', 'para', 'eso', 'simplemente', 'copio', 'este', 'mensaje', 'de', 'prueba', 'y', '¡BOOM', 'veamos', 'como', 'funciona'])"
      ]
     },
     "execution_count": 26,
     "metadata": {},
     "output_type": "execute_result"
    }
   ],
   "source": [
    "# Separar el texto por palabras \n",
    "text.words"
   ]
  },
  {
   "cell_type": "code",
   "execution_count": 27,
   "metadata": {},
   "outputs": [
    {
     "data": {
      "text/plain": [
       "[Sentence(\"Este es un texto de prueba, quiero ver como funciona el tokenizer de nltk.\"),\n",
       " Sentence(\"que hago para eso?\"),\n",
       " Sentence(\"simplemente copio este mensaje de prueba y ¡BOOM!.\"),\n",
       " Sentence(\"veamos como funciona\")]"
      ]
     },
     "execution_count": 27,
     "metadata": {},
     "output_type": "execute_result"
    }
   ],
   "source": [
    "# separar el texto por oraciones\n",
    "text.sentences"
   ]
  },
  {
   "cell_type": "code",
   "execution_count": null,
   "metadata": {},
   "outputs": [],
   "source": []
  }
 ],
 "metadata": {
  "kernelspec": {
   "display_name": "Python 3",
   "language": "python",
   "name": "python3"
  },
  "language_info": {
   "codemirror_mode": {
    "name": "ipython",
    "version": 3
   },
   "file_extension": ".py",
   "mimetype": "text/x-python",
   "name": "python",
   "nbconvert_exporter": "python",
   "pygments_lexer": "ipython3",
   "version": "3.8.5"
  }
 },
 "nbformat": 4,
 "nbformat_minor": 4
}
